{
 "cells": [
  {
   "cell_type": "markdown",
   "metadata": {},
   "source": [
    "# Sparkify Project Workspace\n",
    "This workspace contains a tiny subset (128MB) of the full dataset available (12GB). Feel free to use this workspace to build your project, or to explore a smaller subset with Spark before deploying your cluster on the cloud. Instructions for setting up your Spark cluster is included in the last lesson of the Extracurricular Spark Course content.\n",
    "\n",
    "You can follow the steps below to guide your data analysis and model building portion of this project."
   ]
  },
  {
   "cell_type": "code",
   "execution_count": 2,
   "metadata": {},
   "outputs": [],
   "source": [
    "# import libraries\n",
    "from pyspark.sql import SparkSession\n",
    "from pyspark.sql.window import Window\n",
    "from pyspark.sql.types import IntegerType\n",
    "from pyspark.sql.functions import isnan, count, when, col, desc, udf, col, sort_array, asc, avg\n",
    "from pyspark.sql.functions import sum as Fsum, col, split, mean, first, lit\n",
    "from pyspark.sql.functions import UserDefinedFunction as udf\n",
    "from pyspark.sql.functions import broadcast\n",
    "\n",
    "from pyspark.ml.feature import StandardScaler, VectorAssembler, HashingTF\n",
    "from pyspark.ml.evaluation import MulticlassClassificationEvaluator\n",
    "from pyspark.ml.classification import GBTClassifier,LinearSVC, LogisticRegression\n",
    "from pyspark.ml.tuning import CrossValidator, ParamGridBuilder\n",
    "\n",
    "import pandas as pd\n",
    "import numpy as np\n",
    "import pyspark.sql.functions as f\n",
    "import datetime\n",
    "import matplotlib as plt\n",
    "import seaborn as sns"
   ]
  },
  {
   "cell_type": "code",
   "execution_count": 3,
   "metadata": {},
   "outputs": [],
   "source": [
    "# create a Spark session\n",
    "spark = SparkSession \\\n",
    "    .builder \\\n",
    "    .appName(\"Spark SQL Quiz\") \\\n",
    "    .getOrCreate()\n",
    "\n",
    "data = spark.read.json(\"mini_sparkify_event_data.json\")\n",
    "#user_log.createOrReplaceTempView(\"log_table\")"
   ]
  },
  {
   "cell_type": "code",
   "execution_count": 4,
   "metadata": {},
   "outputs": [
    {
     "name": "stdout",
     "output_type": "stream",
     "text": [
      "root\n",
      " |-- artist: string (nullable = true)\n",
      " |-- auth: string (nullable = true)\n",
      " |-- firstName: string (nullable = true)\n",
      " |-- gender: string (nullable = true)\n",
      " |-- itemInSession: long (nullable = true)\n",
      " |-- lastName: string (nullable = true)\n",
      " |-- length: double (nullable = true)\n",
      " |-- level: string (nullable = true)\n",
      " |-- location: string (nullable = true)\n",
      " |-- method: string (nullable = true)\n",
      " |-- page: string (nullable = true)\n",
      " |-- registration: long (nullable = true)\n",
      " |-- sessionId: long (nullable = true)\n",
      " |-- song: string (nullable = true)\n",
      " |-- status: long (nullable = true)\n",
      " |-- ts: long (nullable = true)\n",
      " |-- userAgent: string (nullable = true)\n",
      " |-- userId: string (nullable = true)\n",
      "\n"
     ]
    }
   ],
   "source": [
    "data.printSchema()"
   ]
  },
  {
   "cell_type": "markdown",
   "metadata": {},
   "source": [
    "# Load and Clean Dataset\n",
    "In this workspace, the mini-dataset file is `mini_sparkify_event_data.json`. Load and clean the dataset, checking for invalid or missing data - for example, records without userids or sessionids. "
   ]
  },
  {
   "cell_type": "code",
   "execution_count": 5,
   "metadata": {},
   "outputs": [
    {
     "name": "stdout",
     "output_type": "stream",
     "text": [
      "-RECORD 0------------------------------------------------------------------------------------------------------------------------\n",
      " artist        | Martha Tilston                                                                                                  \n",
      " auth          | Logged In                                                                                                       \n",
      " firstName     | Colin                                                                                                           \n",
      " gender        | M                                                                                                               \n",
      " itemInSession | 50                                                                                                              \n",
      " lastName      | Freeman                                                                                                         \n",
      " length        | 277.89016                                                                                                       \n",
      " level         | paid                                                                                                            \n",
      " location      | Bakersfield, CA                                                                                                 \n",
      " method        | PUT                                                                                                             \n",
      " page          | NextSong                                                                                                        \n",
      " registration  | 1538173362000                                                                                                   \n",
      " sessionId     | 29                                                                                                              \n",
      " song          | Rockpools                                                                                                       \n",
      " status        | 200                                                                                                             \n",
      " ts            | 1538352117000                                                                                                   \n",
      " userAgent     | Mozilla/5.0 (Windows NT 6.1; WOW64; rv:31.0) Gecko/20100101 Firefox/31.0                                        \n",
      " userId        | 30                                                                                                              \n",
      "-RECORD 1------------------------------------------------------------------------------------------------------------------------\n",
      " artist        | Five Iron Frenzy                                                                                                \n",
      " auth          | Logged In                                                                                                       \n",
      " firstName     | Micah                                                                                                           \n",
      " gender        | M                                                                                                               \n",
      " itemInSession | 79                                                                                                              \n",
      " lastName      | Long                                                                                                            \n",
      " length        | 236.09424                                                                                                       \n",
      " level         | free                                                                                                            \n",
      " location      | Boston-Cambridge-Newton, MA-NH                                                                                  \n",
      " method        | PUT                                                                                                             \n",
      " page          | NextSong                                                                                                        \n",
      " registration  | 1538331630000                                                                                                   \n",
      " sessionId     | 8                                                                                                               \n",
      " song          | Canada                                                                                                          \n",
      " status        | 200                                                                                                             \n",
      " ts            | 1538352180000                                                                                                   \n",
      " userAgent     | \"Mozilla/5.0 (Windows NT 6.1; WOW64) AppleWebKit/537.36 (KHTML, like Gecko) Chrome/37.0.2062.103 Safari/537.36\" \n",
      " userId        | 9                                                                                                               \n",
      "-RECORD 2------------------------------------------------------------------------------------------------------------------------\n",
      " artist        | Adam Lambert                                                                                                    \n",
      " auth          | Logged In                                                                                                       \n",
      " firstName     | Colin                                                                                                           \n",
      " gender        | M                                                                                                               \n",
      " itemInSession | 51                                                                                                              \n",
      " lastName      | Freeman                                                                                                         \n",
      " length        | 282.8273                                                                                                        \n",
      " level         | paid                                                                                                            \n",
      " location      | Bakersfield, CA                                                                                                 \n",
      " method        | PUT                                                                                                             \n",
      " page          | NextSong                                                                                                        \n",
      " registration  | 1538173362000                                                                                                   \n",
      " sessionId     | 29                                                                                                              \n",
      " song          | Time For Miracles                                                                                               \n",
      " status        | 200                                                                                                             \n",
      " ts            | 1538352394000                                                                                                   \n",
      " userAgent     | Mozilla/5.0 (Windows NT 6.1; WOW64; rv:31.0) Gecko/20100101 Firefox/31.0                                        \n",
      " userId        | 30                                                                                                              \n",
      "-RECORD 3------------------------------------------------------------------------------------------------------------------------\n",
      " artist        | Enigma                                                                                                          \n",
      " auth          | Logged In                                                                                                       \n",
      " firstName     | Micah                                                                                                           \n",
      " gender        | M                                                                                                               \n",
      " itemInSession | 80                                                                                                              \n",
      " lastName      | Long                                                                                                            \n",
      " length        | 262.71302                                                                                                       \n",
      " level         | free                                                                                                            \n",
      " location      | Boston-Cambridge-Newton, MA-NH                                                                                  \n",
      " method        | PUT                                                                                                             \n",
      " page          | NextSong                                                                                                        \n",
      " registration  | 1538331630000                                                                                                   \n",
      " sessionId     | 8                                                                                                               \n",
      " song          | Knocking On Forbidden Doors                                                                                     \n",
      " status        | 200                                                                                                             \n",
      " ts            | 1538352416000                                                                                                   \n",
      " userAgent     | \"Mozilla/5.0 (Windows NT 6.1; WOW64) AppleWebKit/537.36 (KHTML, like Gecko) Chrome/37.0.2062.103 Safari/537.36\" \n",
      " userId        | 9                                                                                                               \n",
      "-RECORD 4------------------------------------------------------------------------------------------------------------------------\n",
      " artist        | Daft Punk                                                                                                       \n",
      " auth          | Logged In                                                                                                       \n",
      " firstName     | Colin                                                                                                           \n",
      " gender        | M                                                                                                               \n",
      " itemInSession | 52                                                                                                              \n",
      " lastName      | Freeman                                                                                                         \n",
      " length        | 223.60771                                                                                                       \n",
      " level         | paid                                                                                                            \n",
      " location      | Bakersfield, CA                                                                                                 \n",
      " method        | PUT                                                                                                             \n",
      " page          | NextSong                                                                                                        \n",
      " registration  | 1538173362000                                                                                                   \n",
      " sessionId     | 29                                                                                                              \n",
      " song          | Harder Better Faster Stronger                                                                                   \n",
      " status        | 200                                                                                                             \n",
      " ts            | 1538352676000                                                                                                   \n",
      " userAgent     | Mozilla/5.0 (Windows NT 6.1; WOW64; rv:31.0) Gecko/20100101 Firefox/31.0                                        \n",
      " userId        | 30                                                                                                              \n",
      "only showing top 5 rows\n",
      "\n"
     ]
    }
   ],
   "source": [
    "data.show(vertical = True, n=5, truncate=False)"
   ]
  },
  {
   "cell_type": "code",
   "execution_count": 6,
   "metadata": {},
   "outputs": [
    {
     "name": "stdout",
     "output_type": "stream",
     "text": [
      "The columns of dataframe are: ['artist', 'auth', 'firstName', 'gender', 'itemInSession', 'lastName', 'length', 'level', 'location', 'method', 'page', 'registration', 'sessionId', 'song', 'status', 'ts', 'userAgent', 'userId'] \n",
      "\n",
      "-RECORD 0------------\n",
      " artist        | 0   \n",
      " auth          | 0   \n",
      " firstName     | 0   \n",
      " gender        | 0   \n",
      " itemInSession | 0   \n",
      " lastName      | 0   \n",
      " length        | 0   \n",
      " level         | 0   \n",
      " location      | 0   \n",
      " method        | 0   \n",
      " page          | 0   \n",
      " registration  | 0   \n",
      " sessionId     | 0   \n",
      " song          | 0   \n",
      " status        | 0   \n",
      " ts            | 0   \n",
      " userAgent     | 0   \n",
      " userId        | 0   \n",
      "\n"
     ]
    }
   ],
   "source": [
    "print('The columns of dataframe are:',data.columns,'\\n')\n",
    "\n",
    "# Null values in each dataframe are\n",
    "data.select([count(when(isnan(c), c)).alias(c) for c in data.columns]).show(vertical = True, truncate = False)"
   ]
  },
  {
   "cell_type": "code",
   "execution_count": 7,
   "metadata": {},
   "outputs": [
    {
     "name": "stdout",
     "output_type": "stream",
     "text": [
      "+-------------------------+\n",
      "|page                     |\n",
      "+-------------------------+\n",
      "|Cancel                   |\n",
      "|Submit Downgrade         |\n",
      "|Thumbs Down              |\n",
      "|Home                     |\n",
      "|Downgrade                |\n",
      "|Roll Advert              |\n",
      "|Logout                   |\n",
      "|Save Settings            |\n",
      "|Cancellation Confirmation|\n",
      "|About                    |\n",
      "|Submit Registration      |\n",
      "|Settings                 |\n",
      "|Login                    |\n",
      "|Register                 |\n",
      "|Add to Playlist          |\n",
      "|Add Friend               |\n",
      "|NextSong                 |\n",
      "|Thumbs Up                |\n",
      "|Help                     |\n",
      "|Upgrade                  |\n",
      "+-------------------------+\n",
      "only showing top 20 rows\n",
      "\n"
     ]
    }
   ],
   "source": [
    "data.select(\"page\").distinct().show(truncate = False)"
   ]
  },
  {
   "cell_type": "markdown",
   "metadata": {},
   "source": [
    "We will take Cancellation Confirmation as churn and rest as non-churners."
   ]
  },
  {
   "cell_type": "markdown",
   "metadata": {},
   "source": [
    "# Exploratory Data Analysis\n",
    "When you're working with the full dataset, perform EDA by loading a small subset of the data and doing basic manipulations within Spark. In this workspace, you are already provided a small subset of data you can explore.\n",
    "\n",
    "### Define Churn\n",
    "\n",
    "Once you've done some preliminary analysis, create a column `Churn` to use as the label for your model. I suggest using the `Cancellation Confirmation` events to define your churn, which happen for both paid and free users. As a bonus task, you can also look into the `Downgrade` events.\n",
    "\n",
    "### Explore Data\n",
    "Once you've defined churn, perform some exploratory data analysis to observe the behavior for users who stayed vs users who churned. You can start by exploring aggregates on these two groups of users, observing how much of a specific action they experienced per a certain time unit or number of songs played."
   ]
  },
  {
   "cell_type": "markdown",
   "metadata": {},
   "source": [
    "**Dataset Description**"
   ]
  },
  {
   "cell_type": "code",
   "execution_count": 8,
   "metadata": {},
   "outputs": [
    {
     "name": "stdout",
     "output_type": "stream",
     "text": [
      "The total number of churners are: 44864\n",
      "The total number of churners are: 44864\n"
     ]
    }
   ],
   "source": [
    "# Churn is a label for user who cancelled\n",
    "# Define a flag function\n",
    "flag_cancelation_event = udf(lambda x: 1 if x == \"Cancellation Confirmation\" else 0, IntegerType())\n",
    "# apply to the dataframe\n",
    "data = data.withColumn(\"churn\", flag_cancelation_event(\"page\"))\n",
    "#Define window bounds\n",
    "windowval = Window.partitionBy(\"userId\").rangeBetween(Window.unboundedPreceding, Window.unboundedFollowing)\n",
    "# Applying the window\n",
    "data = data.withColumn(\"churn\", Fsum(\"churn\").over(windowval))\n",
    "\n",
    "\n",
    "print('The total number of churners are:', data.agg(Fsum(\"churn\")).collect()[0][0])\n",
    "print('The total number of churners are:', data.agg(Fsum(\"churn\")).collect()[0][0])"
   ]
  },
  {
   "cell_type": "code",
   "execution_count": 9,
   "metadata": {},
   "outputs": [
    {
     "data": {
      "text/plain": [
       "52"
      ]
     },
     "execution_count": 9,
     "metadata": {},
     "output_type": "execute_result"
    }
   ],
   "source": [
    "#data.filter(data[\"churn\"] == 1).select(\"userId\").dropDuplicates().count()\n",
    "data.select('userId', 'churn').distinct().agg(Fsum(\"churn\")).collect()[0][0]"
   ]
  },
  {
   "cell_type": "code",
   "execution_count": 10,
   "metadata": {},
   "outputs": [],
   "source": [
    "# understanding how a user activity is recorded in dataset\n",
    "#data[['userId', 'page','churn']].filter(data['churn'] == 1).show(100) "
   ]
  },
  {
   "cell_type": "code",
   "execution_count": 11,
   "metadata": {},
   "outputs": [
    {
     "name": "stdout",
     "output_type": "stream",
     "text": [
      "\n",
      "Columns in data are:\n",
      " ['artist', 'auth', 'firstName', 'gender', 'itemInSession', 'lastName', 'length', 'level', 'location', 'method', 'page', 'registration', 'sessionId', 'song', 'status', 'ts', 'userAgent', 'userId', 'churn']\n",
      "\n",
      "[missing values]\n",
      "\n",
      "artist: 58392\n",
      "firstName: 8346\n",
      "gender: 8346\n",
      "lastName: 8346\n",
      "length: 58392\n",
      "location: 8346\n",
      "registration: 8346\n",
      "song: 58392\n",
      "userAgent: 8346\n",
      "userId: 8346\n"
     ]
    }
   ],
   "source": [
    "def missing_recs(df, col):\n",
    "\n",
    "    return df.filter((isnan(df[col])) | (df[col].isNull()) | (df[col] == \"\")).count()\n",
    "\n",
    "\n",
    "print(\"\\nColumns in data are:\\n\",data.columns)\n",
    "\n",
    "print(\"\\n[missing values]\\n\")\n",
    "for col in data.columns:\n",
    "    missing_count = missing_recs(data, col)\n",
    "    if missing_count > 0:\n",
    "        print(\"{}: {}\".format(col, missing_count))\n",
    "\n",
    "\n",
    "#df = data.filter(data.userId != '').collect()\n",
    "#data.agg(Fsum(\"page\")).collect()[0][0]"
   ]
  },
  {
   "cell_type": "code",
   "execution_count": 12,
   "metadata": {},
   "outputs": [
    {
     "name": "stdout",
     "output_type": "stream",
     "text": [
      "Total number of rows in data are: 286500\n",
      "Length of data after dropping blank userId: 278154\n"
     ]
    }
   ],
   "source": [
    "print('Total number of rows in data are:', data.count())\n",
    "print('Length of data after dropping blank userId:', data[data['userId'] != ''].count())\n",
    "data = data[data['userId'] != '']"
   ]
  },
  {
   "cell_type": "code",
   "execution_count": 13,
   "metadata": {},
   "outputs": [],
   "source": [
    "stat_df = spark.createDataFrame(data.dropDuplicates(['userId']).collect()) # A way to convert list to dataframe"
   ]
  },
  {
   "cell_type": "markdown",
   "metadata": {},
   "source": [
    "**Customer churn by genders**"
   ]
  },
  {
   "cell_type": "code",
   "execution_count": 14,
   "metadata": {},
   "outputs": [
    {
     "name": "stdout",
     "output_type": "stream",
     "text": [
      "The avg churn rate of females is: 19.230769230769234\n",
      "The avg churn rate of males is: 26.446280991735538\n"
     ]
    }
   ],
   "source": [
    "#data.filter(data['page'] == 'Cancellation Confirmation').show()\n",
    "# Null values in each columns are given y below code.\n",
    "#print(data.select([count(when(isnan(c), c)).alias(c) for c in data.columns]).show()\n",
    "#data = data.toPandas()\n",
    "#stat_df = spark.createDataFrame(data.dropDuplicates(['userId']).collect())\n",
    "\n",
    "stat_df1 = stat_df[['gender', 'churn']]\n",
    "\n",
    "print('The avg churn rate of females is:', stat_df1.groupby(['gender']).mean().collect()[0][1]*100)\n",
    "print('The avg churn rate of males is:', stat_df1.groupby(['gender']).mean().collect()[1][1]*100)"
   ]
  },
  {
   "cell_type": "markdown",
   "metadata": {},
   "source": [
    "The males seem to cancel more than females but the difference between both the genders does not seem to be huge and thus is not worth of attention for further dwelling."
   ]
  },
  {
   "cell_type": "markdown",
   "metadata": {},
   "source": [
    "**Top 5 artists for churning**"
   ]
  },
  {
   "cell_type": "code",
   "execution_count": 15,
   "metadata": {},
   "outputs": [
    {
     "data": {
      "text/plain": [
       "[Row(artist=None, sum(churn)=27),\n",
       " Row(artist='Orenda Fink', sum(churn)=1),\n",
       " Row(artist='P!nk', sum(churn)=1),\n",
       " Row(artist='P.O.D.', sum(churn)=1),\n",
       " Row(artist='Tasavallan Presidentti', sum(churn)=1)]"
      ]
     },
     "execution_count": 15,
     "metadata": {},
     "output_type": "execute_result"
    }
   ],
   "source": [
    "# Viewing top 5 cancellations by artist\n",
    "stat_df1 = stat_df[['artist', 'churn']]\n",
    "stat_df1.groupBy(['artist']).sum().orderBy('sum(churn)', ascending = False).collect()[:5]"
   ]
  },
  {
   "cell_type": "markdown",
   "metadata": {},
   "source": [
    "Thus it seems like more than 50% cancellations have occured for songs with no artist"
   ]
  },
  {
   "cell_type": "markdown",
   "metadata": {},
   "source": [
    "**Level at which the customers churned**"
   ]
  },
  {
   "cell_type": "code",
   "execution_count": 16,
   "metadata": {},
   "outputs": [
    {
     "name": "stdout",
     "output_type": "stream",
     "text": [
      "proportion of users that chruned from free subscirption 24.858757062146893\n",
      "proportion of users that chruned from paid subscirption 16.666666666666664\n"
     ]
    }
   ],
   "source": [
    "stat_df1 = stat_df[['level', 'churn']]\n",
    "print('proportion of users that chruned from free subscirption', stat_df1.groupBy(['level']).mean().collect()[0][1]*100)\n",
    "print('proportion of users that chruned from paid subscirption',stat_df1.groupBy(['level']).mean().collect()[1][1]*100)"
   ]
  },
  {
   "cell_type": "markdown",
   "metadata": {},
   "source": [
    "This indicates that proportion of free users tend to cancel much more than the people who are paid users."
   ]
  },
  {
   "cell_type": "markdown",
   "metadata": {},
   "source": [
    "**Top 10 states with highest churn**"
   ]
  },
  {
   "cell_type": "code",
   "execution_count": 17,
   "metadata": {},
   "outputs": [
    {
     "name": "stdout",
     "output_type": "stream",
     "text": [
      "Viewing top 10 states to churn:\n",
      "\n",
      "+---------+----------+\n",
      "|    state|sum(churn)|\n",
      "+---------+----------+\n",
      "|       CA|         6|\n",
      "| NY-NJ-PA|         5|\n",
      "|       MI|         3|\n",
      "|       TX|         3|\n",
      "|       FL|         3|\n",
      "|       MS|         2|\n",
      "|       OH|         2|\n",
      "|       AL|         2|\n",
      "|       WA|         2|\n",
      "|       AZ|         2|\n",
      "+---------+----------+\n",
      "only showing top 10 rows\n",
      "\n"
     ]
    }
   ],
   "source": [
    "stat_df1 = stat_df[['location', 'churn']]\n",
    "\n",
    "stat_df1 = stat_df1.withColumn('state', split(stat_df['location'], ',').getItem(1))\n",
    "stat_df1 = stat_df1.drop('location')\n",
    "\n",
    "print(\"Viewing top 10 states to churn:\\n\")\n",
    "stat_df1.groupBy(['state']).sum().filter(\"sum(churn)> 0\").orderBy('sum(churn)', ascending = False).show(10)"
   ]
  },
  {
   "cell_type": "markdown",
   "metadata": {},
   "source": [
    "Thus, the customers that mostly churned were from California, New York - New Jersey and Phili, Michigan, Texas and Florida. It is hard to assume what might be common in these states. But, for simplicity it seems like these locations are either having prominent cities or places in them overall. Especially it stands true for CA which is at the helm of churn by states."
   ]
  },
  {
   "cell_type": "code",
   "execution_count": 18,
   "metadata": {},
   "outputs": [],
   "source": [
    "#def cal_users(df, col):\n",
    "#    mylst = df[[str(col)]].collect()\n",
    "#    numlst = []\n",
    "#    for i in mylst:\n",
    "#        numlst.append(i[0])\n",
    "#    total = df.select(Fsum(col)).collect()[0][0]    \n",
    "#    lst = [i*100/total for i in numlst]\n",
    "#    return lst"
   ]
  },
  {
   "cell_type": "markdown",
   "metadata": {},
   "source": [
    "**Time Analysis:**"
   ]
  },
  {
   "cell_type": "code",
   "execution_count": 19,
   "metadata": {},
   "outputs": [],
   "source": [
    "# User defined functions to get hour, day, month, and weekday of cancellation\n",
    "\n",
    "get_hour = udf(lambda x: datetime.datetime.fromtimestamp(x / 1000.0).hour)\n",
    "get_day = udf(lambda x: datetime.datetime.fromtimestamp(x / 1000.0).day)\n",
    "get_month = udf(lambda x: datetime.datetime.fromtimestamp(x / 1000.0).month)\n",
    "\n",
    "# Source https://stackoverflow.com/questions/38928919/how-to-get-the-weekday-from-day-of-month-using-pyspark\n",
    "get_weekday = udf(lambda x: datetime.datetime.fromtimestamp(x / 1000.0).strftime('%w'))"
   ]
  },
  {
   "cell_type": "code",
   "execution_count": 20,
   "metadata": {},
   "outputs": [
    {
     "name": "stdout",
     "output_type": "stream",
     "text": [
      "Column hour added successfully.\n",
      "Column day added successfully.\n",
      "Column month added successfully.\n",
      "Column week_day added successfully.\n"
     ]
    }
   ],
   "source": [
    "# Adding columns to the dataframe\n",
    "funcs = {'hour':get_hour, 'day':get_day, 'month':get_month, 'week_day':get_weekday}\n",
    "for label, func in funcs.items():\n",
    "    data = data.withColumn(label, func(data.ts))\n",
    "    print(f'Column {label} added successfully.')\n",
    "\n",
    "# to help in better plotting and visuals\n",
    "dfp = data.toPandas()"
   ]
  },
  {
   "cell_type": "code",
   "execution_count": 21,
   "metadata": {},
   "outputs": [],
   "source": [
    "def get_series(col, churn, normalize=False):\n",
    "    ''' \n",
    "    Get a series either of churn users or existing users\n",
    "    THe function can normalize the series and return a percent value\n",
    "    col: {str} the column to plot (hour, month, day, week_day)\n",
    "    churn: {int} 0 or 1\n",
    "    normalize: {bool} T/F, Default is False\n",
    "    return a sorted pandas series\n",
    "    '''\n",
    "    ser1 = dfp[dfp.churn == churn].groupby([col])['userId'].count()\n",
    "    try:\n",
    "        ser1.index = ser1.index.astype(int)\n",
    "    except:\n",
    "        pass\n",
    "    if normalize:\n",
    "        ser1=ser1/ser1.sum()*100\n",
    "    return ser1.sort_index()"
   ]
  },
  {
   "cell_type": "code",
   "execution_count": 22,
   "metadata": {},
   "outputs": [],
   "source": [
    "def draw_time(col, normalize=True, figsize=(16,4), title=None, label_rotation=0):\n",
    "    '''\n",
    "    Draw a bar plot for churn and existing users based on \n",
    "         a specific column (hour, month, day, week_day)\n",
    "         \n",
    "    normalize: {bool} T/F, Default is True\n",
    "    figsize: {tuple} the plot size, default is (16,4)\n",
    "    title: descriptive title part\n",
    "    Returns: None\n",
    "    '''\n",
    "    df_time = pd.DataFrame({'Cancelled': get_series(col, 1, normalize),\n",
    "                            'Active users':get_series(col, 0, normalize)})\n",
    "    ax = df_time.plot(kind='bar', figsize=figsize);\n",
    "    ax.set_ylabel('Percent of users')\n",
    "    if title is None:\n",
    "        title = col\n",
    "    ax.set_ylabel(f'Percent of users')\n",
    "    #print(ax.get_xticks())\n",
    "    ax.set_xticklabels(ax.get_xticklabels(), rotation=label_rotation)\n",
    "    ax.set_title(f'Percent of users took action per {title}') \n",
    "    return ax"
   ]
  },
  {
   "cell_type": "code",
   "execution_count": 23,
   "metadata": {},
   "outputs": [
    {
     "data": {
      "image/png": "[encoded data removed]",
      "text/plain": [
       "<matplotlib.figure.Figure at 0x7fa7b8246cc0>"
      ]
     },
     "metadata": {
      "needs_background": "light"
     },
     "output_type": "display_data"
    }
   ],
   "source": [
    "draw_time('hour', title='hour of the day');"
   ]
  },
  {
   "cell_type": "code",
   "execution_count": 24,
   "metadata": {},
   "outputs": [
    {
     "data": {
      "image/png": "[encoded data removed]",
      "text/plain": [
       "<matplotlib.figure.Figure at 0x7fa7982ba208>"
      ]
     },
     "metadata": {
      "needs_background": "light"
     },
     "output_type": "display_data"
    }
   ],
   "source": [
    "draw_time('day', title='day of the month');"
   ]
  },
  {
   "cell_type": "code",
   "execution_count": 25,
   "metadata": {},
   "outputs": [
    {
     "data": {
      "image/png": "[encoded data removed]",
      "text/plain": [
       "<matplotlib.figure.Figure at 0x7fa7923b8780>"
      ]
     },
     "metadata": {
      "needs_background": "light"
     },
     "output_type": "display_data"
    }
   ],
   "source": [
    "ax = draw_time('week_day', title='week day')\n",
    "ax.set_xticklabels(['Mon', 'Tue', 'Wed', 'Thu', 'Fri', 'Sat', 'Sun'], rotation=0);"
   ]
  },
  {
   "cell_type": "markdown",
   "metadata": {},
   "source": [
    "**Lifetime Since registration**"
   ]
  },
  {
   "cell_type": "code",
   "execution_count": 26,
   "metadata": {},
   "outputs": [],
   "source": [
    "from pyspark.sql.functions import sum as Fsum, col, split, mean, first, lit\n",
    "\n",
    "stat_df = data \\\n",
    "    .select('userId','registration','ts','churn') \\\n",
    "    .withColumn('lifetime',(data.ts-data.registration)) \\\n",
    "    .groupBy('userId','churn') \\\n",
    "    .agg({'lifetime':'max'}) \\\n",
    "    .withColumnRenamed('max(lifetime)','lifetime') \\\n",
    "    .select('userId', 'churn', (col('lifetime')/1000/3600/24).alias('lifetime')) \\\n",
    "    .toPandas()"
   ]
  },
  {
   "cell_type": "code",
   "execution_count": 27,
   "metadata": {
    "scrolled": true
   },
   "outputs": [
    {
     "data": {
      "image/png": "[encoded data removed]",
      "text/plain": [
       "<matplotlib.figure.Figure at 0x7fa7acbf1860>"
      ]
     },
     "metadata": {
      "needs_background": "light"
     },
     "output_type": "display_data"
    }
   ],
   "source": [
    "ax =stat_df.boxplot(column='lifetime', by='churn', figsize=(5,5), vert = False)#kind='box', ));\n",
    "ax.set_xlabel('Days from registration before churning')\n",
    "labels = [item.get_text() for item in ax.get_yticklabels()]\n",
    "labels = ['non-churners','churners']\n",
    "ax.set_yticklabels(labels)\n",
    "ax.get_figure().suptitle(\"\")\n",
    "ax.set_title('Lifetime of customers')\n",
    "ax.set_ylabel('customer type');"
   ]
  },
  {
   "cell_type": "markdown",
   "metadata": {},
   "source": [
    "This plot depicts that churners had less experience with the music features of our product than the one that did not churn. Hence we can suggest longer period of free trials or also send out gentle emails for suggestion of longer stay with product before confirming cancellations."
   ]
  },
  {
   "cell_type": "code",
   "execution_count": 28,
   "metadata": {},
   "outputs": [],
   "source": [
    "stat_df = data.where('page == \"NextSong\" OR page == \"Thumbs Up\"').groupby(['userId', 'churn', 'gender', 'page']).count().toPandas()\n",
    "stat_df = stat_df.pivot_table(index=['userId','churn','gender'], values='count', columns='page').reset_index()"
   ]
  },
  {
   "cell_type": "markdown",
   "metadata": {},
   "source": [
    "**Churn and non-churn density patterns between genders**"
   ]
  },
  {
   "cell_type": "code",
   "execution_count": 29,
   "metadata": {},
   "outputs": [
    {
     "data": {
      "image/png": "[encoded data removed]",
      "text/plain": [
       "<matplotlib.figure.Figure at 0x7fa794a1e8d0>"
      ]
     },
     "metadata": {
      "needs_background": "light"
     },
     "output_type": "display_data"
    }
   ],
   "source": [
    "fig, ax = plt.pyplot.subplots()\n",
    "ax = plt.pyplot.violinplot(dataset=[stat_df[(stat_df.churn == 0) & (stat_df.gender == 'M')][\"NextSong\"].values,\n",
    "                                    stat_df[(stat_df.churn == 0) & (stat_df.gender == 'F')][\"NextSong\"].values,\n",
    "                                    stat_df[(stat_df.churn == 1) & (stat_df.gender == 'M')][\"NextSong\"].values,\n",
    "                                    stat_df[(stat_df.churn == 1) & (stat_df.gender == 'F')][\"NextSong\"].values\n",
    "                                   ])\n",
    "plt.pyplot.xticks([1,2.1,3.1,4],['Non-Churn Males','Non-Churn Females','Churn Males','Churn Females'])\n",
    "plt.pyplot.xlabel('Classes')\n",
    "plt.pyplot.ylabel('Lifetime songs listened')\n",
    "plt.pyplot.title(\"Customer lifetime songs listened did/n't vary a lot\")\n",
    "plt.pyplot.show()"
   ]
  },
  {
   "cell_type": "markdown",
   "metadata": {},
   "source": [
    "The lifetime songs listened by both males and females in churn and non-churn group did vary but not for two genders within the same group"
   ]
  },
  {
   "cell_type": "markdown",
   "metadata": {},
   "source": [
    "**Number of songs played per session**"
   ]
  },
  {
   "cell_type": "code",
   "execution_count": 30,
   "metadata": {},
   "outputs": [
    {
     "data": {
      "image/png": "[encoded data removed]",
      "text/plain": [
       "<matplotlib.figure.Figure at 0x7fa7aa9990f0>"
      ]
     },
     "metadata": {
      "needs_background": "light"
     },
     "output_type": "display_data"
    }
   ],
   "source": [
    "stat_df = data.where('page == \"NextSong\"').groupby(['churn', 'userId', 'sessionId','gender']).count()\\\n",
    "    .groupby(['churn', 'userId', 'gender']).agg({'count':'avg'})\\\n",
    "    .withColumnRenamed('avg(count)', 'avg_songs_played')\\\n",
    "    .toPandas()\n",
    "\n",
    "fig, ax = plt.pyplot.subplots()\n",
    "ax = plt.pyplot.violinplot(dataset=[stat_df[(stat_df.churn == 0) & (stat_df.gender == 'M')][\"avg_songs_played\"].values,\n",
    "                                    stat_df[(stat_df.churn == 0) & (stat_df.gender == 'F')][\"avg_songs_played\"].values,\n",
    "                                    stat_df[(stat_df.churn == 1) & (stat_df.gender == 'M')][\"avg_songs_played\"].values,\n",
    "                                    stat_df[(stat_df.churn == 1) & (stat_df.gender == 'F')][\"avg_songs_played\"].values,\n",
    "                                    ])\n",
    "plt.pyplot.xticks([1,2.1,3.1,4],['Non-Churn Males','Non-Churn Females','Churn Males','Churn Females'])\n",
    "plt.pyplot.xlabel('Classes')\n",
    "plt.pyplot.ylabel('Average songs played per session')\n",
    "plt.pyplot.title(\"Customers playing music per session\")\n",
    "plt.pyplot.show()"
   ]
  },
  {
   "cell_type": "markdown",
   "metadata": {},
   "source": [
    "Both the churning and non-churning males had played more songs per session than females. Nevertheless, overall the churning members played less songs than the ones that did not."
   ]
  },
  {
   "cell_type": "markdown",
   "metadata": {},
   "source": [
    "**Pages visited by churned and non-churned customers**"
   ]
  },
  {
   "cell_type": "code",
   "execution_count": 31,
   "metadata": {},
   "outputs": [
    {
     "data": {
      "image/png": "[encoded data removed]",
      "text/plain": [
       "<matplotlib.figure.Figure at 0x7fa790eb1278>"
      ]
     },
     "metadata": {
      "needs_background": "light"
     },
     "output_type": "display_data"
    }
   ],
   "source": [
    "''' Understanding difference of activites between churned and active users to understand what went wrong \n",
    "with churned users better '''\n",
    "\n",
    "# Creating records of Churned users\n",
    "users_1 = data[data['churn'] == 1][['userId','page']].groupBy(['page']).agg(\n",
    "    count('userId')).filter(data['page'] != 'NextSong')\n",
    "\n",
    "users_1 = users_1.select(f.col('page'), \n",
    "                         (f.col('count(userId)')/users_1.select(Fsum('count(userId)')).collect()[0][0])*100)                        \n",
    "\n",
    "users_1 = users_1.withColumnRenamed(\"((count(userId) / 8470) * 100)\", \"%churn\")\n",
    "\n",
    "\n",
    "# Creating records for Active Users\n",
    "users_0 = data[data['churn'] == 0][['userId','page']].groupBy(['page']).agg(\n",
    "    count('userId')).filter(data['page'] != 'NextSong')\n",
    "\n",
    "users_0 = users_0.select(f.col('page'), \n",
    "                         (f.col('count(userId)')/users_0.select(Fsum('count(userId)')).collect()[0][0])*100)                        \n",
    "\n",
    "users_0 = users_0.withColumnRenamed(\"((count(userId) / 41576) * 100)\", \"%nonchurn\")\n",
    "\n",
    "# Plotting percentage of churned users besides active users\n",
    "stat_df = users_1.join(users_0, \"page\",'left_outer')\n",
    "stat_df = stat_df.toPandas()\n",
    "stat_df = stat_df.set_index(stat_df.columns[0])\n",
    "\n",
    "ax = stat_df.plot(kind='barh', figsize=(10,14));\n",
    "ax.set_xlabel('Percent of event occurence (%)')\n",
    "ax.set_title('Percent of event occurence for churned and nonchurned users');"
   ]
  },
  {
   "cell_type": "markdown",
   "metadata": {},
   "source": [
    "The stark differences between thumbs up for churners and non-churned users shows that churners were heavily disappointed with songs that they liked or probably even the audio quality of them.This is also supported with the bar of \"Add friend\" and \"Add to Playlist\" which is much higher for non-churners as compared to churners showing the likeness of non-churners being much higher than the users that churned.\n",
    "\n",
    "The above explanation is also supplemented by seeing the \"Thumbs down\" bar higher for users who churned as compared for the ones that did not churned. The churners \"Roll Advertisement\" much larger as compared to ones that did not cancel. This too supports the claim that churners were highly dissapointed with song quality or collection and we should focus on feedback from them to improve the drawbacks."
   ]
  },
  {
   "cell_type": "markdown",
   "metadata": {},
   "source": [
    "# Feature Engineering\n",
    "Once you've familiarized yourself with the data, build out the features you find promising to train your model on. To work with the full dataset, you can follow the following steps.\n",
    "- Write a script to extract the necessary features from the smaller subset of data\n",
    "- Ensure that your script is scalable, using the best practices discussed in Lesson 3\n",
    "- Try your script on the full data set, debugging your script if necessary\n",
    "\n",
    "If you are working in the classroom workspace, you can just extract features based on the small subset of data contained here. Be sure to transfer over this work to the larger dataset when you work on your Spark cluster."
   ]
  },
  {
   "cell_type": "markdown",
   "metadata": {},
   "source": [
    "We have seen the difference in churners and non-churners since time of registry. Hence we shall consider making this feature to draw the user's engagement and likelihood."
   ]
  },
  {
   "cell_type": "code",
   "execution_count": 32,
   "metadata": {},
   "outputs": [
    {
     "name": "stdout",
     "output_type": "stream",
     "text": [
      "+-------+------------------+-------------------+\n",
      "|summary|            userId|           lifetime|\n",
      "+-------+------------------+-------------------+\n",
      "|  count|               225|                225|\n",
      "|   mean|65391.013333333336|   79.8456834876543|\n",
      "| stddev|105396.47791907164|  37.66147001861254|\n",
      "|    min|                10|0.31372685185185184|\n",
      "|    max|                99|  256.3776736111111|\n",
      "+-------+------------------+-------------------+\n",
      "\n"
     ]
    }
   ],
   "source": [
    "# Time since registration\n",
    "feat_1 = data \\\n",
    "    .select('userId','registration','ts') \\\n",
    "    .withColumn('lifetime',(data.ts-data.registration)) \\\n",
    "    .groupBy('userId') \\\n",
    "    .agg({'lifetime':'max'}) \\\n",
    "    .withColumnRenamed('max(lifetime)','lifetime') \\\n",
    "    .select('userId', (col('lifetime')/1000/3600/24).alias('lifetime'))\n",
    "feat_1.describe().show()"
   ]
  },
  {
   "cell_type": "markdown",
   "metadata": {},
   "source": [
    "The overall songs listened by churners was less than the ones listened by non-churners. Therefore second feature will depict the same"
   ]
  },
  {
   "cell_type": "code",
   "execution_count": 33,
   "metadata": {},
   "outputs": [
    {
     "name": "stdout",
     "output_type": "stream",
     "text": [
      "+-------+------------------+-----------------+\n",
      "|summary|            userID|      total_songs|\n",
      "+-------+------------------+-----------------+\n",
      "|  count|               225|              225|\n",
      "|   mean|65391.013333333336|          1236.24|\n",
      "| stddev|105396.47791907164|1329.531716432519|\n",
      "|    min|                10|                6|\n",
      "|    max|                99|             9632|\n",
      "+-------+------------------+-----------------+\n",
      "\n"
     ]
    }
   ],
   "source": [
    "# Total songs listened\n",
    "feat_2 = data \\\n",
    "    .select('userID','song') \\\n",
    "    .groupBy('userID') \\\n",
    "    .count() \\\n",
    "    .withColumnRenamed('count', 'total_songs')\n",
    "feat_2.describe().show()"
   ]
  },
  {
   "cell_type": "markdown",
   "metadata": {},
   "source": [
    "Now let the third feature make about thumbs up and fourth be of thumbs down because we saw in bar graph above the stark difference these two features had between churners and non-churners."
   ]
  },
  {
   "cell_type": "code",
   "execution_count": 34,
   "metadata": {},
   "outputs": [
    {
     "name": "stdout",
     "output_type": "stream",
     "text": [
      "+-------+------------------+-----------------+\n",
      "|summary|            userID|     num_thumb_up|\n",
      "+-------+------------------+-----------------+\n",
      "|  count|               220|              220|\n",
      "|   mean| 66420.27727272727|            57.05|\n",
      "| stddev|106196.51156121881|65.67028650524044|\n",
      "|    min|                10|                1|\n",
      "|    max|                99|              437|\n",
      "+-------+------------------+-----------------+\n",
      "\n",
      "+-------+------------------+------------------+\n",
      "|summary|            userID|    num_thumb_down|\n",
      "+-------+------------------+------------------+\n",
      "|  count|               203|               203|\n",
      "|   mean| 66066.16256157635|12.541871921182265|\n",
      "| stddev|106108.32569893777|13.198108566983787|\n",
      "|    min|                10|                 1|\n",
      "|    max|                99|                75|\n",
      "+-------+------------------+------------------+\n",
      "\n"
     ]
    }
   ],
   "source": [
    "# Number of Thumbs-Up/Down\n",
    "feat_3 = data \\\n",
    "    .select('userID','page') \\\n",
    "    .where(data.page == 'Thumbs Up') \\\n",
    "    .groupBy('userID') \\\n",
    "    .count() \\\n",
    "    .withColumnRenamed('count', 'num_thumb_up') \n",
    "feat_3.describe().show()\n",
    "\n",
    "feat_4 = data \\\n",
    "    .select('userID','page') \\\n",
    "    .where(data.page == 'Thumbs Down') \\\n",
    "    .groupBy('userID') \\\n",
    "    .count() \\\n",
    "    .withColumnRenamed('count', 'num_thumb_down')\n",
    "feat_4.describe().show()"
   ]
  },
  {
   "cell_type": "markdown",
   "metadata": {},
   "source": [
    "Number of songs listened per session were less for churners than non-churners and churners did add less songs to their playlist (as seen from bar graph). Hence, we will rely on this study to make our fifth feature as number of songs added to playlist"
   ]
  },
  {
   "cell_type": "code",
   "execution_count": 35,
   "metadata": {},
   "outputs": [
    {
     "name": "stdout",
     "output_type": "stream",
     "text": [
      "+-------+------------------+-----------------+\n",
      "|summary|            userID|  add_to_playlist|\n",
      "+-------+------------------+-----------------+\n",
      "|  count|               215|              215|\n",
      "|   mean| 66103.63720930232|30.35348837209302|\n",
      "| stddev|106360.47999565038| 32.8520568555997|\n",
      "|    min|                10|                1|\n",
      "|    max|                99|              240|\n",
      "+-------+------------------+-----------------+\n",
      "\n"
     ]
    }
   ],
   "source": [
    "# Number of songs added to playlist\n",
    "feat_5 = data \\\n",
    "    .select('userID','page') \\\n",
    "    .where(data.page == 'Add to Playlist') \\\n",
    "    .groupBy('userID')\\\n",
    "    .count() \\\n",
    "    .withColumnRenamed('count', 'add_to_playlist')\n",
    "feat_5.describe().show()"
   ]
  },
  {
   "cell_type": "markdown",
   "metadata": {},
   "source": [
    "From bar graph we also clearly see that friends added by non-churners were more than churners. Hence we would consider this to be our sixth feature"
   ]
  },
  {
   "cell_type": "code",
   "execution_count": 36,
   "metadata": {},
   "outputs": [
    {
     "name": "stdout",
     "output_type": "stream",
     "text": [
      "+-------+------------------+------------------+\n",
      "|summary|            userID|        add_friend|\n",
      "+-------+------------------+------------------+\n",
      "|  count|               206|               206|\n",
      "|   mean| 66076.91262135922|20.762135922330096|\n",
      "| stddev|106860.60517425007|20.646779074405007|\n",
      "|    min|                10|                 1|\n",
      "|    max|                99|               143|\n",
      "+-------+------------------+------------------+\n",
      "\n"
     ]
    }
   ],
   "source": [
    "# Number of friends added\n",
    "feat_6 = data \\\n",
    "    .select('userID','page') \\\n",
    "    .where(data.page == 'Add Friend') \\\n",
    "    .groupBy('userID') \\\n",
    "    .count() \\\n",
    "    .withColumnRenamed('count', 'add_friend') \n",
    "feat_6.describe().show()"
   ]
  },
  {
   "cell_type": "markdown",
   "metadata": {},
   "source": [
    "Total number of songs listened by customers in lifetime were way more for non-churners than the churners. Hence, in time instrospection we shall consider longetivity of listening to songs."
   ]
  },
  {
   "cell_type": "code",
   "execution_count": 37,
   "metadata": {},
   "outputs": [
    {
     "name": "stdout",
     "output_type": "stream",
     "text": [
      "+-------+------------------+------------------+\n",
      "|summary|            userID|       listen_time|\n",
      "+-------+------------------+------------------+\n",
      "|  count|               225|               225|\n",
      "|   mean|65391.013333333336|252558.32065155543|\n",
      "| stddev|105396.47791907164| 275396.4038847635|\n",
      "|    min|                10|         691.66884|\n",
      "|    max|                99|1991154.9155799907|\n",
      "+-------+------------------+------------------+\n",
      "\n"
     ]
    }
   ],
   "source": [
    "# Total length of listening\n",
    "feat_7 = data \\\n",
    "    .select('userID','length') \\\n",
    "    .groupBy('userID') \\\n",
    "    .sum() \\\n",
    "    .withColumnRenamed('sum(length)', 'listen_time')\n",
    "feat_7.describe().show()"
   ]
  },
  {
   "cell_type": "markdown",
   "metadata": {},
   "source": [
    "Density of songs listened were higher for non-churners than churners. Hence average songs listened per session becomes our eighth feature."
   ]
  },
  {
   "cell_type": "code",
   "execution_count": 38,
   "metadata": {},
   "outputs": [
    {
     "name": "stdout",
     "output_type": "stream",
     "text": [
      "+-------+------------------+-----------------+\n",
      "|summary|            userId| avg_songs_played|\n",
      "+-------+------------------+-----------------+\n",
      "|  count|               225|              225|\n",
      "|   mean|65391.013333333336|70.78971233958933|\n",
      "| stddev|105396.47791907164| 42.6153697543817|\n",
      "|    min|                10|              3.0|\n",
      "|    max|                99|286.6666666666667|\n",
      "+-------+------------------+-----------------+\n",
      "\n"
     ]
    }
   ],
   "source": [
    "# Number of songs listened per session\n",
    "feat_8 = data.where('page == \"NextSong\"') \\\n",
    "    .groupby(['userId', 'sessionId']) \\\n",
    "    .count() \\\n",
    "    .groupby(['userId']) \\\n",
    "    .agg({'count':'avg'}) \\\n",
    "    .withColumnRenamed('avg(count)', 'avg_songs_played')\n",
    "feat_8.describe().show()"
   ]
  },
  {
   "cell_type": "markdown",
   "metadata": {},
   "source": [
    "We saw that proprtion of females churned were less than males. Hence we will include this as ninth feature."
   ]
  },
  {
   "cell_type": "code",
   "execution_count": 39,
   "metadata": {},
   "outputs": [
    {
     "name": "stdout",
     "output_type": "stream",
     "text": [
      "+-------+------------------+-------------------+\n",
      "|summary|            userId|             gender|\n",
      "+-------+------------------+-------------------+\n",
      "|  count|               225|                225|\n",
      "|   mean|65391.013333333336| 0.4622222222222222|\n",
      "| stddev|105396.47791907165|0.49968243883744773|\n",
      "|    min|                10|                  0|\n",
      "|    max|                99|                  1|\n",
      "+-------+------------------+-------------------+\n",
      "\n"
     ]
    }
   ],
   "source": [
    "# Gender\n",
    "feat_9 = data \\\n",
    "    .select(\"userId\", \"gender\") \\\n",
    "    .dropDuplicates() \\\n",
    "    .replace(['M', 'F'], ['0', '1'], 'gender') \\\n",
    "    .select('userId', col('gender').cast('int'))\n",
    "feat_9.describe().show()"
   ]
  },
  {
   "cell_type": "markdown",
   "metadata": {},
   "source": [
    "In the start we saw that there were some artists for which churning occured more than others. Hence, including number of artists listened to as our tenth feature."
   ]
  },
  {
   "cell_type": "code",
   "execution_count": 40,
   "metadata": {},
   "outputs": [
    {
     "name": "stdout",
     "output_type": "stream",
     "text": [
      "+-------+------------------+-----------------+\n",
      "|summary|            userId|     artist_count|\n",
      "+-------+------------------+-----------------+\n",
      "|  count|               225|              225|\n",
      "|   mean|65391.013333333336|696.3777777777777|\n",
      "| stddev|105396.47791907164|603.9518698630802|\n",
      "|    min|                10|                3|\n",
      "|    max|                99|             3544|\n",
      "+-------+------------------+-----------------+\n",
      "\n"
     ]
    }
   ],
   "source": [
    "# Number of artists listened\n",
    "feat_10 = data \\\n",
    "    .filter(data.page==\"NextSong\") \\\n",
    "    .select(\"userId\", \"artist\") \\\n",
    "    .dropDuplicates() \\\n",
    "    .groupby(\"userId\") \\\n",
    "    .count() \\\n",
    "    .withColumnRenamed(\"count\", \"artist_count\")\n",
    "feat_10.describe().show()"
   ]
  },
  {
   "cell_type": "markdown",
   "metadata": {},
   "source": [
    "Churn and non-churn label"
   ]
  },
  {
   "cell_type": "code",
   "execution_count": 41,
   "metadata": {},
   "outputs": [
    {
     "name": "stdout",
     "output_type": "stream",
     "text": [
      "+-------+------------------+------------------+\n",
      "|summary|            userId|             label|\n",
      "+-------+------------------+------------------+\n",
      "|  count|               225|               225|\n",
      "|   mean|65391.013333333336|0.2311111111111111|\n",
      "| stddev|105396.47791907164|0.4224832108996327|\n",
      "|    min|                10|                 0|\n",
      "|    max|                99|                 1|\n",
      "+-------+------------------+------------------+\n",
      "\n"
     ]
    }
   ],
   "source": [
    "# Churn label\n",
    "label = data \\\n",
    "    .select('userId', col('churn').alias('label')) \\\n",
    "    .dropDuplicates()\n",
    "label.describe().show()"
   ]
  },
  {
   "cell_type": "markdown",
   "metadata": {},
   "source": [
    "Preparing our final dataframe to be used in modelling"
   ]
  },
  {
   "cell_type": "code",
   "execution_count": 42,
   "metadata": {},
   "outputs": [
    {
     "name": "stdout",
     "output_type": "stream",
     "text": [
      "+------------------+-----------+------------+--------------+---------------+----------+------------------+------------------+------+------------+-----+\n",
      "|          lifetime|total_songs|num_thumb_up|num_thumb_down|add_to_playlist|add_friend|       listen_time|  avg_songs_played|gender|artist_count|label|\n",
      "+------------------+-----------+------------+--------------+---------------+----------+------------------+------------------+------+------------+-----+\n",
      "|  55.6436574074074|        381|          17|             5|              7|         4| 66940.89735000003|39.285714285714285|     1|         252|    0|\n",
      "| 70.07462962962963|        474|          21|             6|              8|         4| 94008.87593999993|              64.5|     0|         339|    0|\n",
      "| 71.31688657407408|         11|           0|             0|              0|         0|2089.1131000000005|               8.0|     0|           8|    1|\n",
      "|131.55591435185184|       4825|         171|            41|            118|        74|1012312.0927899999|145.67857142857142|     1|        2232|    0|\n",
      "|19.455844907407407|       2464|         100|            21|             52|        28| 523275.8428000004|             211.1|     0|        1385|    1|\n",
      "+------------------+-----------+------------+--------------+---------------+----------+------------------+------------------+------+------------+-----+\n",
      "only showing top 5 rows\n",
      "\n"
     ]
    }
   ],
   "source": [
    "data = feat_1.join(feat_2,'userID','outer') \\\n",
    "    .join(feat_3,'userID','outer') \\\n",
    "    .join(feat_4,'userID','outer') \\\n",
    "    .join(feat_5,'userID','outer') \\\n",
    "    .join(feat_6,'userID','outer') \\\n",
    "    .join(feat_7,'userID','outer') \\\n",
    "    .join(feat_8,'userID','outer') \\\n",
    "    .join(feat_9,'userID','outer') \\\n",
    "    .join(feat_10,'userID','outer') \\\n",
    "    .join(label,'userID','outer') \\\n",
    "    .drop('userID') \\\n",
    "    .fillna(0)\n",
    "\n",
    "data.show(5)"
   ]
  },
  {
   "cell_type": "markdown",
   "metadata": {},
   "source": [
    "# Modeling\n",
    "Split the full dataset into train, test, and validation sets. Test out several of the machine learning methods you learned. Evaluate the accuracy of the various models, tuning parameters as necessary. Determine your winning model based on test accuracy and report results on the validation set. Since the churned users are a fairly small subset, I suggest using F1 score as the metric to optimize."
   ]
  },
  {
   "cell_type": "markdown",
   "metadata": {},
   "source": [
    "First we have to vectorize and scale the features to remove any present bias and introduce normalization. This is done to ensure that one feature doesn't domainate the entire model.Thus, we will we standardize the features by taking off the mean and divided by the standard deviation of each feature."
   ]
  },
  {
   "cell_type": "code",
   "execution_count": 43,
   "metadata": {},
   "outputs": [],
   "source": [
    "# Vector assembler\n",
    "cols = [\"lifetime\",\"total_songs\",\"num_thumb_up\",'num_thumb_down','add_to_playlist',\n",
    "        'add_friend','listen_time','avg_songs_played','gender','artist_count']\n",
    "\n",
    "assembler = VectorAssembler(inputCols=cols, outputCol=\"NumFeatures\")\n",
    "data = assembler.transform(data)\n",
    "\n",
    "# standard scaler\n",
    "scaler = StandardScaler(inputCol=\"NumFeatures\", outputCol=\"features\", withStd=True)\n",
    "scalerModel = scaler.fit(data)\n",
    "data = scalerModel.transform(data)"
   ]
  },
  {
   "cell_type": "markdown",
   "metadata": {},
   "source": [
    "We need a stratified samplifing as our label is too much skewed. We would make two splits to test. One of validation set and other of test set."
   ]
  },
  {
   "cell_type": "code",
   "execution_count": 44,
   "metadata": {},
   "outputs": [],
   "source": [
    "# train test split\n",
    "train, rest = data.randomSplit([0.7, 0.3], seed=42)\n",
    "validation, test = rest.randomSplit([0.6, 0.4], seed=42)"
   ]
  },
  {
   "cell_type": "markdown",
   "metadata": {},
   "source": [
    "**Base Models to decide approach for unbalanced dataset**"
   ]
  },
  {
   "cell_type": "markdown",
   "metadata": {},
   "source": [
    "We will check for churned as well as non-churn. Because, the dataset is uneven. The churners are far less than non-churners.Hence we will create two base models for both churners as well as non-churners. Thus making 2 base models for label churn = 1 (churned) and churn = 0 (non-churned)"
   ]
  },
  {
   "cell_type": "code",
   "execution_count": 45,
   "metadata": {},
   "outputs": [
    {
     "name": "stdout",
     "output_type": "stream",
     "text": [
      "Test set metrics:\n",
      "Accuracy: 0.25\n",
      "F1 Score:0.10000000000000002\n"
     ]
    }
   ],
   "source": [
    "results_base_all_1 = test.withColumn('prediction', lit(1.0))\n",
    "evaluator = MulticlassClassificationEvaluator(predictionCol=\"prediction\")\n",
    "print('Test set metrics:')\n",
    "print('Accuracy: {}'.format(evaluator.evaluate(results_base_all_1, {evaluator.metricName: \"accuracy\"})))\n",
    "print('F1 Score:{}'.format(evaluator.evaluate(results_base_all_1, {evaluator.metricName: \"f1\"})))"
   ]
  },
  {
   "cell_type": "code",
   "execution_count": 46,
   "metadata": {},
   "outputs": [
    {
     "name": "stdout",
     "output_type": "stream",
     "text": [
      "Test set metrics:\n",
      "Accuracy: 0.75\n",
      "F1 Score:0.6428571428571428\n"
     ]
    }
   ],
   "source": [
    "results_base_all_0 = test.withColumn('prediction', lit(0.0))\n",
    "evaluator = MulticlassClassificationEvaluator(predictionCol=\"prediction\")\n",
    "print('Test set metrics:')\n",
    "print('Accuracy: {}'.format(evaluator.evaluate(results_base_all_0, {evaluator.metricName: \"accuracy\"})))\n",
    "print('F1 Score:{}'.format(evaluator.evaluate(results_base_all_0, {evaluator.metricName: \"f1\"})))"
   ]
  },
  {
   "cell_type": "markdown",
   "metadata": {},
   "source": [
    "**Gradient Boosted Trees**"
   ]
  },
  {
   "cell_type": "code",
   "execution_count": 47,
   "metadata": {},
   "outputs": [
    {
     "name": "stdout",
     "output_type": "stream",
     "text": [
      "Gradient Boosted Trees Metrics:\n",
      "Accuracy: 0.7857142857142857\n",
      "F1 Score:0.7542857142857142\n"
     ]
    }
   ],
   "source": [
    "# initialize classifier\n",
    "GradBoostTree = GBTClassifier(maxIter=5,seed=42)\n",
    "\n",
    "# set evaluator\n",
    "f1_evaluator = MulticlassClassificationEvaluator(metricName='f1')\n",
    "\n",
    "# build paramGrid\n",
    "paramGrid = ParamGridBuilder().build()\n",
    "\n",
    "crossval_GradBoostTree = CrossValidator(estimator=GradBoostTree,\n",
    "                          estimatorParamMaps=paramGrid,\n",
    "                          evaluator=f1_evaluator,\n",
    "                          numFolds=5)\n",
    "\n",
    "cvModel_GradBoostTree = crossval_GradBoostTree.fit(train)\n",
    "cvModel_GradBoostTree.avgMetrics\n",
    "\n",
    "results_GradBoostTree = cvModel_GradBoostTree.transform(validation)\n",
    "evaluator = MulticlassClassificationEvaluator(predictionCol=\"prediction\")\n",
    "print('Gradient Boosted Trees Metrics:')\n",
    "print('Accuracy: {}'.format(evaluator.evaluate(results_GradBoostTree, {evaluator.metricName: \"accuracy\"})))\n",
    "print('F1 Score:{}'.format(evaluator.evaluate(results_GradBoostTree, {evaluator.metricName: \"f1\"})))"
   ]
  },
  {
   "cell_type": "markdown",
   "metadata": {},
   "source": [
    "**Logistic Regression**"
   ]
  },
  {
   "cell_type": "code",
   "execution_count": 48,
   "metadata": {},
   "outputs": [
    {
     "name": "stdout",
     "output_type": "stream",
     "text": [
      "Logistic Regression Metrics:\n",
      "Accuracy: 0.8571428571428571\n",
      "F-1 Score:0.7912087912087912\n"
     ]
    }
   ],
   "source": [
    "# initialize classifier\n",
    "lr = LogisticRegression(maxIter=10)\n",
    "\n",
    "# set evaluator\n",
    "f1_evaluator = MulticlassClassificationEvaluator(metricName='f1')\n",
    "\n",
    "# build paramGrid\n",
    "paramGrid = ParamGridBuilder() \\\n",
    "    .build()\n",
    "\n",
    "crossval_lr = CrossValidator(estimator=lr,\n",
    "                          evaluator=f1_evaluator, \n",
    "                          estimatorParamMaps=paramGrid,\n",
    "                          numFolds=3)\n",
    "\n",
    "cvModel_lr = crossval_lr.fit(train)\n",
    "cvModel_lr.avgMetrics\n",
    "\n",
    "results_lr = cvModel_lr.transform(validation)\n",
    "\n",
    "evaluator = MulticlassClassificationEvaluator(predictionCol=\"prediction\")\n",
    "print('Logistic Regression Metrics:')\n",
    "print('Accuracy: {}'.format(evaluator.evaluate(results_lr, {evaluator.metricName: \"accuracy\"})))\n",
    "print('F-1 Score:{}'.format(evaluator.evaluate(results_lr, {evaluator.metricName: \"f1\"})))"
   ]
  },
  {
   "cell_type": "markdown",
   "metadata": {},
   "source": [
    "Out of both the tested models, I suppose that LogR performed much at par than Gradient Boosted Tree. Therefore, proceeding with parameter tuning for LogR and using it as our model for further steps.\n",
    "\n",
    "I am more focussed on F1 score as its a paramter to understand the swing between precision and recall. For the purpose of our model, we should be focussing on higher precision since we want to make sure that the likely churning customers should be detected and even if it increases the likelihood of falsely turning some non-churning customers as churning, it wont harm because here we are focussing on people who should not leave our business rather than seeing someone who's life is at stake like in healthcare."
   ]
  },
  {
   "cell_type": "markdown",
   "metadata": {},
   "source": [
    "# Final Steps\n",
    "Clean up your code, adding comments and renaming variables to make the code easier to read and maintain. Refer to the Spark Project Overview page and Data Scientist Capstone Project Rubric to make sure you are including all components of the capstone project and meet all expectations. Remember, this includes thorough documentation in a README file in a Github repository, as well as a web app or blog post."
   ]
  },
  {
   "cell_type": "markdown",
   "metadata": {},
   "source": [
    "**Hyperparameter Tuning**"
   ]
  },
  {
   "cell_type": "code",
   "execution_count": 55,
   "metadata": {},
   "outputs": [],
   "source": [
    "f1_evaluator = MulticlassClassificationEvaluator(metricName='f1')\n",
    "lr = LogisticRegression()\n",
    "paramGrid = ParamGridBuilder().addGrid(lr.maxIter, [10,12])\\\n",
    "                                .addGrid(lr.regParam, [0,0.1]) \\\n",
    "                                .addGrid(lr.elasticNetParam, [0.001,0.01]) \\\n",
    "                                .build()\n",
    "lr_cv = CrossValidator(estimator=lr, estimatorParamMaps=paramGrid, \\\n",
    "                        evaluator=f1_evaluator, numFolds=3)"
   ]
  },
  {
   "cell_type": "code",
   "execution_count": 56,
   "metadata": {},
   "outputs": [],
   "source": [
    "lrModel = lr_cv.fit(train)\n",
    "bestModel = lrModel.bestModel"
   ]
  },
  {
   "cell_type": "markdown",
   "metadata": {},
   "source": [
    "**Best Model**"
   ]
  },
  {
   "cell_type": "code",
   "execution_count": 57,
   "metadata": {},
   "outputs": [
    {
     "name": "stdout",
     "output_type": "stream",
     "text": [
      "Test set metrics:\n",
      "Accuracy: 0.8125\n",
      "F-1 Score:0.782204020848846\n"
     ]
    }
   ],
   "source": [
    "results_final = bestModel.transform(test)\n",
    "\n",
    "evaluator = MulticlassClassificationEvaluator(predictionCol=\"prediction\")\n",
    "print('Test set metrics:')\n",
    "print('Accuracy: {}'.format(evaluator.evaluate(results_final, {evaluator.metricName: \"accuracy\"})))\n",
    "print('F-1 Score:{}'.format(evaluator.evaluate(results_final, {evaluator.metricName: \"f1\"})))"
   ]
  },
  {
   "cell_type": "markdown",
   "metadata": {},
   "source": [
    "**Feature Importance of LogR Model**"
   ]
  },
  {
   "cell_type": "markdown",
   "metadata": {},
   "source": [
    "I have put to use the coefficients (beta) of features to understand the feature importance of our LogR model. "
   ]
  },
  {
   "cell_type": "code",
   "execution_count": null,
   "metadata": {},
   "outputs": [],
   "source": [
    "feat_imp = abs(bestModel.coefficients.values)\n",
    "cols = [\"lifetime\", \"TotalSongs\", \"Thumbsup\", \\\n",
    "          'ThumbsDown','PlaylistAdd','FriendAdd','ListeningTime','AvgSongsPlay', \\\n",
    "        'Gender', 'NumofArtists']\n",
    "y_pos = np.arange(len(cols))\n",
    " \n",
    "plt.pyplot.barh(y_pos, feat_imp, align='center')\n",
    "plt.pyplot.yticks(y_pos,cols, rotation = 45)\n",
    "plt.pyplot.xlabel('Importance Score')\n",
    "plt.pyplot.title('Feature Importances');\n",
    "plt.pyplot.tight_layout()\n",
    "plt.pyplot.show()"
   ]
  },
  {
   "cell_type": "markdown",
   "metadata": {},
   "source": [
    "# Conclusion"
   ]
  },
  {
   "cell_type": "markdown",
   "metadata": {},
   "source": [
    "<u>**Feature Importance**</u>:\n",
    "\n",
    "As we clearly see that the lifetime is the greatest important feature coupled with thumbs down and friends referred. This makes top 3 important features. We can easily say that the person about to churn did not like the quality of songs either by his/her liking or the audio quality. Such people did not referred friends which was very obvious. Thought the length of using service seems to dominate the behaviour to churn, it could be biased. Because, the churned customers used the product for shorter time. Hence we can consider some other transformations to mitigate this bias."
   ]
  },
  {
   "cell_type": "markdown",
   "metadata": {},
   "source": [
    "<u> **I have performed following actions on my dataset**</u>:\n",
    "\n",
    "1.) Dropped rows with no userId.\n",
    "\n",
    "2.) converted timestamp to a human readable format.\n",
    "\n",
    "3.) converted categorical and other non-numeric columns to numeric using dummy variables or other methods. \n",
    "\n",
    "<u>**Modelling actions**</u>:\n",
    "\n",
    "1.) Feature engineering yielded 10 features. \n",
    "\n",
    "2.) 2 models were used, Gradient Boosted Tree and Logistic Regression in which the later won. \n",
    "\n",
    "3.) For tuning the model, cross validation and grid search were used. \n",
    "\n",
    "<u>Results achieved</u>:\n",
    "\n",
    "1.) 81% accuracy and 78% F1 score on test set.\n",
    "\n",
    "2.) Thus, the LogR model performed multiple times better than our baseline models.\n",
    "\n",
    "<u>Drawbacks and Way forward</u>:\n",
    "\n",
    "1.) We can re-use lot of part of the above code in actual work environment. The notebook sets a crude yet very close mirroring to what one shall encounter in field experience when it comes to not only coding but also in areas of customer churn.\n",
    "\n",
    "2.) Although it was a great learning experience overall, the few points can still be improved within this notebook which are; using multiple models before jumping to final conclusion, SCRUM calls with SMEs to understand the direction and domain perspective on each feature, rigorous test cases to make sure model withstands changing marketing sentiments and styles of customer usage methods, etc."
   ]
  }
 ],
 "metadata": {
  "kernelspec": {
   "display_name": "Python 3",
   "language": "python",
   "name": "python3"
  },
  "language_info": {
   "codemirror_mode": {
    "name": "ipython",
    "version": 3
   },
   "file_extension": ".py",
   "mimetype": "text/x-python",
   "name": "python",
   "nbconvert_exporter": "python",
   "pygments_lexer": "ipython3",
   "version": "3.6.3"
  }
 },
 "nbformat": 4,
 "nbformat_minor": 2
}
